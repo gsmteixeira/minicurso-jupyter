{
 "cells": [
  {
   "cell_type": "markdown",
   "metadata": {},
   "source": [
    "<img align=\"left\" src = https://www.linea.gov.br/wp-content/themes/LIneA/imagens/logo-header.png width=180 style=\"padding: 20px\"> <br>\n",
    "\n",
    "## Curso básico de ferramentas computacionais para astronomia\n",
    "Contato: Julia Gschwend ([julia@linea.gov.br](mailto:julia@linea.gov.br)) <br>\n",
    "Github: https://github.com/linea-it/minicurso-jupyter  <br>\n",
    "Site: https://minicurso-ed2.linea.gov.br/ <br> \n",
    "Última verificação: 30/08/2021<br> "
   ]
  },
  {
   "cell_type": "markdown",
   "metadata": {},
   "source": [
    "# Aula 4 - Visualização de dados\n",
    "\n",
    "\n",
    "\n",
    "### Objetivo: Color-magnitude diagram (CMD) de galáxias\n",
    "\n",
    "Depois de explorar os comandos para criar e customizar gráficos básicos, ao final do notebook faremos um diagrama cor-magnitude de galáxias com dados observacionais do levantamento DES (Y1). Esta amostra faz parte do produto da publicação [Aguena et al. 2021](https://academic.oup.com/mnras/article-abstract/502/3/4435/6137813?redirectedFrom=PDF) e estão disponíveis para download no repositório de produtos científicos [LIneA Dataverse](https://dataverse.linea.gov.br/dataset.xhtml?persistentId=doi:10.5072/FK2/WQQOBC).\n",
    "\n",
    "No arquivo `cluster_members.csv` dentro da pasta `dados` vamos encontrar um catálogo de objetos classificados como membros de aglomerados de galáxias com alto valor de \"riqueza\", ou seja, que possuem muitos membros (neste caso > 250 membros).  \n",
    "\n",
    "\n",
    "#### CMD teórico:\n",
    "\n",
    "<img src=\"http://www-astro.physics.ox.ac.uk/~mxc/gedg/cm_diagram.png\" width=\"500\"/> \n",
    "\n",
    "Fonte da imagem: [University of Oxford's Galaxy Evolution Discussion Group web page](http://www-astro.physics.ox.ac.uk/~mxc/gedg/index_2010-04-07.html) \n",
    "\n",
    "#### \"_Caveats_\" e adaptações necessárias:\n",
    "\n",
    "+ As bandas $U$ e $B$ não fazem parte do conjunto de filtros disponíveis no DES (filtros $grizY$). Usaremos então as cores $g-r$ ou $g-i$. \n",
    "+ O redshift fotométrico (photo-$z$) é utilizado como um indicador de distância (redshift cosmológico). \n",
    "+ No diagrama teórico, o eixo $x$ se refere à massa das galáxias, que poderia ser substituída pela magnitude absoluta. Entretanto, as magnitudes disponíveis no catálogo são aparentes. Se os objetos estiverem todos a uma mesma distância (mesmo photo-$z$), podemos usar a magnitude aparente como indicador do brilho intrínseco de forma comparativa. \n",
    "\n",
    "\n",
    "**Dica: Para navegar nas seções do notebook, use o índice da barra lateral do Jupyter Lab.**\n"
   ]
  },
  {
   "cell_type": "markdown",
   "metadata": {},
   "source": [
    "## 0. Setup"
   ]
  },
  {
   "cell_type": "code",
   "execution_count": null,
   "metadata": {},
   "outputs": [],
   "source": [
    "import numpy as np\n",
    "import pandas as pd\n",
    "import matplotlib.pyplot as plt\n",
    "import seaborn as sns\n",
    "\n",
    "%matplotlib inline"
   ]
  },
  {
   "cell_type": "markdown",
   "metadata": {},
   "source": [
    "**Leitura dos dados**"
   ]
  },
  {
   "cell_type": "code",
   "execution_count": null,
   "metadata": {},
   "outputs": [],
   "source": [
    "dados = pd.read_csv(\"dados/cluster_members.csv\")"
   ]
  },
  {
   "cell_type": "code",
   "execution_count": null,
   "metadata": {},
   "outputs": [],
   "source": [
    "dados.head()"
   ]
  },
  {
   "cell_type": "code",
   "execution_count": null,
   "metadata": {},
   "outputs": [],
   "source": [
    "dados.size"
   ]
  },
  {
   "cell_type": "code",
   "execution_count": null,
   "metadata": {},
   "outputs": [],
   "source": [
    "dados.info()"
   ]
  },
  {
   "cell_type": "code",
   "execution_count": null,
   "metadata": {},
   "outputs": [],
   "source": [
    "dados.describe()"
   ]
  },
  {
   "cell_type": "markdown",
   "metadata": {},
   "source": [
    "# 1. Gráficos com a biblioteca Matplotlib\n",
    "\n",
    "[matplotlib.org](https://matplotlib.org/)\n",
    "\n",
    "[cheatsheets](https://github.com/matplotlib/cheatsheets#cheatsheets)"
   ]
  },
  {
   "cell_type": "markdown",
   "metadata": {},
   "source": [
    "## 1.1 Histogramas (1D)"
   ]
  },
  {
   "cell_type": "code",
   "execution_count": null,
   "metadata": {},
   "outputs": [],
   "source": [
    "plt.hist(dados.mag_i)\n",
    "plt.tight_layout()"
   ]
  },
  {
   "cell_type": "code",
   "execution_count": null,
   "metadata": {},
   "outputs": [],
   "source": [
    "plt.hist(dados.mag_i, bins=100) # bins default=10\n",
    "plt.tight_layout()"
   ]
  },
  {
   "cell_type": "code",
   "execution_count": null,
   "metadata": {},
   "outputs": [],
   "source": [
    "# olhar min e max no describe\n",
    "plt.hist(dados.mag_i, bins=np.arange(18,23,0.2)) # bins podem ser uma lista ou sequencia\n",
    "plt.tight_layout()"
   ]
  },
  {
   "cell_type": "markdown",
   "metadata": {},
   "source": [
    "**Freedman–Diaconis rule**\n",
    "\n",
    "Regra da estatística para calcular a largura de bin ótima para exibir uma distribuição de dados. Fonte: [Wikipedia](https://en.wikipedia.org/wiki/Freedman%E2%80%93Diaconis_rule)\n",
    "\n",
    "\n",
    "\n",
    "$$ bin \\ width = 2 \\  \\frac{Q_{3}-Q_{1}}{\\sqrt[3]{N}}  $$\n",
    "\n",
    "\n",
    "\n",
    "\n",
    "\n",
    "\n"
   ]
  },
  {
   "cell_type": "code",
   "execution_count": null,
   "metadata": {},
   "outputs": [],
   "source": [
    "q1, q2, q3 = dados.mag_i.quantile(q=[0.25, 0.50, 0.75])\n",
    "q1, q2, q3"
   ]
  },
  {
   "cell_type": "code",
   "execution_count": null,
   "metadata": {},
   "outputs": [],
   "source": [
    "def bin_width(series):\n",
    "    \"\"\"Return optimal bin width for a given pandas Series \n",
    "        object based on the Freedman–Diaconis rule\"\"\"   \n",
    "    \n",
    "    q1, q3 = series.quantile(q=[0.25, 0.75])\n",
    "    width = 2 * ((q3-q1)/(series.count()**(1./3.)))\n",
    "    \n",
    "    return width"
   ]
  },
  {
   "cell_type": "code",
   "execution_count": null,
   "metadata": {},
   "outputs": [],
   "source": [
    "bin_width(dados.mag_i) #aplicando na coluna mag_i"
   ]
  },
  {
   "cell_type": "code",
   "execution_count": null,
   "metadata": {},
   "outputs": [],
   "source": [
    "bin_width(dados.z_gal) #aplicando na coluna z_gal"
   ]
  },
  {
   "cell_type": "code",
   "execution_count": null,
   "metadata": {},
   "outputs": [],
   "source": [
    "plt.hist(dados.mag_i, bins=np.arange(18,23,bin_width(dados.mag_i)))\n",
    "plt.tight_layout()"
   ]
  },
  {
   "cell_type": "code",
   "execution_count": null,
   "metadata": {},
   "outputs": [],
   "source": [
    "#help(plt.hist)"
   ]
  },
  {
   "cell_type": "code",
   "execution_count": null,
   "metadata": {},
   "outputs": [],
   "source": [
    "#help(np.histogram_bin_edges)"
   ]
  },
  {
   "cell_type": "code",
   "execution_count": null,
   "metadata": {},
   "outputs": [],
   "source": [
    "plt.hist(dados.mag_i, bins=\"fd\") # fd automático\n",
    "plt.tight_layout()"
   ]
  },
  {
   "cell_type": "code",
   "execution_count": null,
   "metadata": {},
   "outputs": [],
   "source": [
    "plt.hist(dados.mag_i, bins=\"fd\", color=\"g\") # cor verde\n",
    "plt.tight_layout()"
   ]
  },
  {
   "cell_type": "code",
   "execution_count": null,
   "metadata": {},
   "outputs": [],
   "source": [
    "plt.hist(dados.mag_i, bins=\"fd\", ec=\"r\", fc=\"y\") # borda e recheio separadamente\n",
    "plt.tight_layout()"
   ]
  },
  {
   "cell_type": "code",
   "execution_count": null,
   "metadata": {},
   "outputs": [],
   "source": [
    "plt.hist(dados.mag_i, bins=\"fd\", color=\"g\", ec=\"k\", histtype=\"bar\") # default tipo barra\n",
    "plt.tight_layout()"
   ]
  },
  {
   "cell_type": "code",
   "execution_count": null,
   "metadata": {},
   "outputs": [],
   "source": [
    "plt.hist(dados.mag_i, bins=\"fd\", color=\"g\", histtype=\"step\") # tipo step \n",
    "plt.tight_layout()"
   ]
  },
  {
   "cell_type": "code",
   "execution_count": null,
   "metadata": {},
   "outputs": [],
   "source": [
    "plt.hist(dados.mag_i, bins=\"fd\", color=\"g\", histtype=\"step\", lw=2) # largura da linha\n",
    "plt.tight_layout()"
   ]
  },
  {
   "cell_type": "code",
   "execution_count": null,
   "metadata": {},
   "outputs": [],
   "source": [
    "plt.hist(dados.mag_i, bins=\"fd\", color=\"g\", histtype=\"step\", lw=2) \n",
    "plt.xlabel(\"magnitude ($i$-band)\") # label nos eixos\n",
    "plt.ylabel(\"counts\")\n",
    "plt.tight_layout()"
   ]
  },
  {
   "cell_type": "code",
   "execution_count": null,
   "metadata": {},
   "outputs": [],
   "source": [
    "plt.hist(dados.mag_i, bins=\"fd\", color=\"g\", histtype=\"step\", lw=2)\n",
    "plt.xlabel(\"magnitude ($i$-band)\", fontsize=14) #tamanho da fonte\n",
    "plt.ylabel(\"counts\", fontsize=14)\n",
    "plt.tight_layout()"
   ]
  },
  {
   "cell_type": "code",
   "execution_count": null,
   "metadata": {},
   "outputs": [],
   "source": [
    "plt.hist(dados.mag_i, bins=\"fd\", color=\"g\", histtype=\"step\", lw=2)\n",
    "plt.xlabel(\"magnitude ($i$-band)\", fontsize=14)\n",
    "plt.ylabel(\"counts\", fontsize=14)\n",
    "plt.xticks(fontsize=12)  # tamanho fonte tick marks\n",
    "plt.yticks(fontsize=12)\n",
    "plt.tight_layout()"
   ]
  },
  {
   "cell_type": "code",
   "execution_count": null,
   "metadata": {},
   "outputs": [],
   "source": [
    "plt.hist(dados.mag_i, bins=\"fd\", color=\"g\", histtype=\"step\", lw=2, density=True)\n",
    "# density -> normalizado -> vira uma PDF\n",
    "# a ordem dos algumentos opcionais (nomeados) não importa\n",
    "plt.xlabel(\"magnitude ($i$-band)\", fontsize=14)\n",
    "plt.ylabel(\"PDF\", fontsize=14)\n",
    "plt.xticks(fontsize=12)\n",
    "plt.yticks(fontsize=12)\n",
    "plt.tight_layout()"
   ]
  },
  {
   "cell_type": "code",
   "execution_count": null,
   "metadata": {},
   "outputs": [],
   "source": [
    "# mais de um plot na mesma figura\n",
    "for band in [\"g\", \"r\", \"i\"]:\n",
    "    plt.hist(dados[f\"mag_{band}\"], bins=\"fd\", histtype=\"step\", lw=2, density=True)\n",
    "plt.xlabel(\"magnitude\", fontsize=14)\n",
    "plt.ylabel(\"PDF\", fontsize=14)\n",
    "plt.xticks(fontsize=12)\n",
    "plt.yticks(fontsize=12)\n",
    "plt.tight_layout()"
   ]
  },
  {
   "cell_type": "code",
   "execution_count": null,
   "metadata": {},
   "outputs": [],
   "source": [
    "# legendas\n",
    "for band in [\"g\", \"r\", \"i\"]:\n",
    "    plt.hist(dados[f\"mag_{band}\"], bins=\"fd\", histtype=\"step\", \n",
    "             lw=2, density=True, label=band) # legendas\n",
    "plt.xlabel(\"magnitude\", fontsize=14)\n",
    "plt.ylabel(\"PDF\", fontsize=14)\n",
    "plt.xticks(fontsize=12)\n",
    "plt.yticks(fontsize=12)\n",
    "plt.legend()  # legendas\n",
    "plt.tight_layout()"
   ]
  },
  {
   "cell_type": "code",
   "execution_count": null,
   "metadata": {},
   "outputs": [],
   "source": [
    "for band in [\"g\", \"r\", \"i\"]:\n",
    "    plt.hist(dados[f\"mag_{band}\"], bins=\"fd\", histtype=\"step\", lw=2, density=True, label=band)\n",
    "plt.xlabel(\"magnitude\", fontsize=14)\n",
    "plt.ylabel(\"PDF\", fontsize=14)\n",
    "plt.xticks(fontsize=12)\n",
    "plt.yticks(fontsize=12)\n",
    "plt.legend(loc=\"upper left\")  #posição legenda\n",
    "plt.tight_layout()"
   ]
  },
  {
   "cell_type": "code",
   "execution_count": null,
   "metadata": {},
   "outputs": [],
   "source": [
    "for band in [\"g\", \"r\", \"i\"]:\n",
    "    plt.hist(dados[f\"mag_{band}\"], bins=\"fd\", histtype=\"step\", lw=2, density=True, label=band)\n",
    "plt.xlabel(\"magnitude\", fontsize=14)\n",
    "plt.ylabel(\"PDF\", fontsize=14)\n",
    "plt.xticks(fontsize=12)\n",
    "plt.yticks(fontsize=12)\n",
    "plt.xlim(18,28) # limites no eixo x\n",
    "plt.legend() #volta ao default\n",
    "plt.tight_layout()"
   ]
  },
  {
   "cell_type": "code",
   "execution_count": null,
   "metadata": {},
   "outputs": [],
   "source": [
    "for band in [\"g\", \"r\", \"i\"]:\n",
    "    plt.hist(dados[f\"mag_{band}\"], bins=\"fd\", lw=2, density=True, \n",
    "             label=band, histtype=\"stepfilled\") # tipo stepfilled\n",
    "plt.xlabel(\"magnitude\", fontsize=14)\n",
    "plt.ylabel(\"PDF\", fontsize=14)\n",
    "plt.xticks(fontsize=12)\n",
    "plt.yticks(fontsize=12)\n",
    "plt.xlim(18,28) \n",
    "plt.legend()\n",
    "plt.tight_layout()"
   ]
  },
  {
   "cell_type": "code",
   "execution_count": null,
   "metadata": {},
   "outputs": [],
   "source": [
    "for band in [\"g\", \"r\", \"i\"]:\n",
    "    plt.hist(dados[f\"mag_{band}\"], bins=\"fd\", lw=2, \n",
    "             density=True, label=band, alpha=0.5, # alpha\n",
    "             histtype=\"stepfilled\")\n",
    "plt.xlabel(\"magnitude\", fontsize=14)\n",
    "plt.ylabel(\"PDF\", fontsize=14)\n",
    "plt.xticks(fontsize=12)\n",
    "plt.yticks(fontsize=12)\n",
    "plt.xlim(18,28) \n",
    "plt.legend()\n",
    "plt.tight_layout()"
   ]
  },
  {
   "cell_type": "code",
   "execution_count": null,
   "metadata": {},
   "outputs": [],
   "source": [
    "for band in [\"g\", \"r\", \"i\"]:\n",
    "    plt.hist(dados[f\"mag_{band}\"], bins=\"fd\", lw=1,  # boda fina\n",
    "             density=True, label=band, alpha=0.5, ec=\"k\", #edge color\n",
    "             histtype=\"stepfilled\")\n",
    "plt.xlabel(\"magnitude\", fontsize=14)\n",
    "plt.ylabel(\"PDF\", fontsize=14)\n",
    "plt.xticks(fontsize=12)\n",
    "plt.yticks(fontsize=12)\n",
    "plt.xlim(18,28) \n",
    "plt.legend()\n",
    "plt.tight_layout()"
   ]
  },
  {
   "cell_type": "code",
   "execution_count": null,
   "metadata": {},
   "outputs": [],
   "source": [
    "for band in [\"g\", \"r\", \"i\"]:\n",
    "    plt.hist(dados[f\"mag_{band}\"], bins=\"fd\", \n",
    "             lw=1, density=True, label=band, \n",
    "             alpha=0.5, ec=\"k\", histtype=\"stepfilled\")\n",
    "plt.xlabel(\"magnitude\", fontsize=14)\n",
    "plt.ylabel(\"PDF\", fontsize=14)\n",
    "plt.xticks(fontsize=12)\n",
    "plt.yticks(fontsize=12)\n",
    "plt.xlim(18,28) \n",
    "plt.legend()\n",
    "plt.grid()  # grid  <------\n",
    "plt.tight_layout()"
   ]
  },
  {
   "cell_type": "code",
   "execution_count": null,
   "metadata": {},
   "outputs": [],
   "source": [
    "for band in [\"g\", \"r\", \"i\"]:\n",
    "    plt.hist(dados[f\"mag_{band}\"], bins=\"fd\", lw=1, density=True, label=band, alpha=0.5, ec=\"k\", histtype=\"stepfilled\")\n",
    "plt.xlabel(\"magnitude\", fontsize=14)\n",
    "plt.ylabel(\"PDF\", fontsize=14)\n",
    "plt.xticks(fontsize=12)\n",
    "plt.yticks(fontsize=12)\n",
    "plt.xlim(18,28) \n",
    "plt.legend()\n",
    "plt.grid()\n",
    "plt.title(\"Galaxies from DES DR2\")   # título\n",
    "plt.tight_layout()"
   ]
  },
  {
   "cell_type": "code",
   "execution_count": null,
   "metadata": {},
   "outputs": [],
   "source": [
    "for band in [\"g\", \"r\", \"i\"]:\n",
    "    plt.hist(dados[f\"mag_{band}\"], \n",
    "             bins=\"fd\", lw=1, density=False,  # density false <---\n",
    "             label=band, alpha=0.5, \n",
    "             ec=\"k\", histtype=\"stepfilled\", log=True) # log scale <---\n",
    "plt.xlabel(\"magnitude\", fontsize=14)\n",
    "plt.ylabel(\"Number counts\", fontsize=14) # number counts <---\n",
    "plt.xticks(fontsize=12)\n",
    "plt.yticks(fontsize=12)\n",
    "plt.xlim(18,28) \n",
    "plt.legend()\n",
    "plt.grid()\n",
    "plt.title(\"Galaxies from DES DR2\")\n",
    "plt.tight_layout()"
   ]
  },
  {
   "cell_type": "code",
   "execution_count": null,
   "metadata": {},
   "outputs": [],
   "source": [
    "for band in [\"g\", \"r\", \"i\"]:\n",
    "    plt.hist(dados[f\"mag_{band}\"], bins=\"fd\", lw=1, \n",
    "             density=False, label=band, alpha=0.5, \n",
    "             ec=\"k\", histtype=\"stepfilled\", log=False) # log false <---\n",
    "plt.xlabel(\"magnitude\", fontsize=14)\n",
    "plt.ylabel(\"Counts\", fontsize=14) # counts  <-----\n",
    "plt.xticks(fontsize=12)\n",
    "plt.yticks(fontsize=12)\n",
    "plt.xlim(18,28) \n",
    "plt.legend()\n",
    "plt.grid()\n",
    "plt.title(\"Galaxies from DES DR2\")\n",
    "plt.tight_layout()"
   ]
  },
  {
   "cell_type": "code",
   "execution_count": null,
   "metadata": {},
   "outputs": [],
   "source": [
    "# distribuição dos photozs\n",
    "plt.hist(dados.z_gal, bins=\"fd\", # tira o label, cor e lw\n",
    "            histtype=\"stepfilled\")\n",
    "plt.xlabel(\"photo-$z$\", fontsize=14)\n",
    "plt.ylabel(\"Counts\", fontsize=14)\n",
    "plt.xticks(fontsize=12)\n",
    "plt.yticks(fontsize=12)\n",
    "#plt.xlim(0,0.15) # deixa livre  <------   \n",
    "#  tira legenda <---------\n",
    "plt.grid()\n",
    "plt.title(\"Galaxies from DES DR2\")\n",
    "plt.tight_layout()"
   ]
  },
  {
   "cell_type": "code",
   "execution_count": null,
   "metadata": {},
   "outputs": [],
   "source": [
    "# dois paineis na mesma figura\n",
    "\n",
    "plt.subplot(1,2,1)   # subplot <-------\n",
    "for band in [\"g\", \"r\", \"i\"]:\n",
    "    plt.hist(dados[f\"mag_{band}\"], bins=\"fd\", lw=1, \n",
    "             density=False, label=band, alpha=0.5, ec=\"k\", \n",
    "             histtype=\"stepfilled\", log=False)\n",
    "plt.xlabel(\"magnitude\", fontsize=14)\n",
    "plt.ylabel(\"Counts\", fontsize=14)\n",
    "plt.xticks(fontsize=12)\n",
    "plt.yticks(fontsize=12)\n",
    "plt.xlim(18,28) \n",
    "plt.legend()\n",
    "plt.grid()\n",
    "plt.subplot(1,2,2) # subplot <-------\n",
    "plt.hist(dados.z_gal, bins=\"fd\", alpha=0.5, ec=\"k\", # cor e alpha <---\n",
    "            histtype=\"stepfilled\")\n",
    "plt.xlabel(\"photo-$z$\", fontsize=14)\n",
    "plt.ylabel(\"Counts\", fontsize=14)\n",
    "plt.xticks(fontsize=12)\n",
    "plt.yticks(fontsize=12)\n",
    "plt.grid()\n",
    "plt.suptitle(\"Galaxies from DES DR2\") #<---- SUPTITLE\n",
    "plt.tight_layout()"
   ]
  },
  {
   "cell_type": "code",
   "execution_count": null,
   "metadata": {},
   "outputs": [],
   "source": [
    "plt.figure(figsize=[12,5], dpi=200) # tamanho <-------\n",
    "\n",
    "plt.subplot(1,2,1)  \n",
    "for band in [\"g\", \"r\", \"i\"]:\n",
    "    plt.hist(dados[f\"mag_{band}\"], bins=\"fd\", lw=1, \n",
    "             density=False, label=band, alpha=0.5, ec=\"k\", \n",
    "             histtype=\"stepfilled\", log=False)\n",
    "plt.xlabel(\"magnitude\", fontsize=14)\n",
    "plt.ylabel(\"Counts\", fontsize=14)\n",
    "plt.xticks(fontsize=12)\n",
    "plt.yticks(fontsize=12)\n",
    "plt.xlim(18,28) \n",
    "plt.legend()\n",
    "plt.grid()\n",
    "plt.subplot(1,2,2) \n",
    "plt.hist(dados.z_gal, bins=\"fd\", alpha=0.5, ec=\"k\", \n",
    "            histtype=\"stepfilled\")\n",
    "plt.xlabel(\"photo-$z$\", fontsize=14)\n",
    "plt.ylabel(\"Counts\", fontsize=14)\n",
    "plt.xticks(fontsize=12)\n",
    "plt.yticks(fontsize=12)\n",
    "plt.grid()\n",
    "plt.suptitle(\"Galaxies from DES DR2\", fontsize=18) # fontsize <---\n",
    "plt.tight_layout()\n"
   ]
  },
  {
   "cell_type": "code",
   "execution_count": null,
   "metadata": {},
   "outputs": [],
   "source": [
    "plt.figure(figsize=[12,5], dpi=200) \n",
    "plt.subplot(1,2,1)  \n",
    "for band in [\"g\", \"r\", \"i\"]:\n",
    "    plt.hist(dados[f\"mag_{band}\"], bins=\"fd\", lw=1, \n",
    "             density=False, label=band, alpha=0.5, ec=\"k\", \n",
    "             histtype=\"stepfilled\", log=False)\n",
    "plt.xlabel(\"magnitude\", fontsize=14)\n",
    "plt.ylabel(\"Counts\", fontsize=14)\n",
    "plt.xticks(fontsize=12)\n",
    "plt.yticks(fontsize=12)\n",
    "plt.xlim(18,28) \n",
    "plt.legend()\n",
    "plt.grid()\n",
    "plt.subplot(1,2,2) \n",
    "plt.hist(dados.z_gal, bins=\"fd\", alpha=0.5, ec=\"k\", \n",
    "            histtype=\"stepfilled\")\n",
    "plt.xlabel(\"photo-$z$\", fontsize=14)\n",
    "plt.ylabel(\"Counts\", fontsize=14)\n",
    "plt.xticks(fontsize=12)\n",
    "plt.yticks(fontsize=12)\n",
    "plt.grid()\n",
    "plt.suptitle(\"Galaxies from DES DR2\", fontsize=18) \n",
    "plt.tight_layout()\n",
    "\n",
    "plt.savefig(\"mag_and_err_distributions.png\")# save <---"
   ]
  },
  {
   "cell_type": "markdown",
   "metadata": {},
   "source": [
    "## 1.2 Plot (xy) and Scatter plots"
   ]
  },
  {
   "cell_type": "code",
   "execution_count": null,
   "metadata": {},
   "outputs": [],
   "source": [
    "plt.plot(dados.ra, dados.dec)"
   ]
  },
  {
   "cell_type": "code",
   "execution_count": null,
   "metadata": {},
   "outputs": [],
   "source": [
    "plt.plot(dados.ra, dados.dec)\n",
    "plt.tight_layout()"
   ]
  },
  {
   "cell_type": "code",
   "execution_count": null,
   "metadata": {},
   "outputs": [],
   "source": [
    "plt.plot(dados.ra, dados.dec, \"ko--\") # < marker\n",
    "plt.tight_layout()"
   ]
  },
  {
   "cell_type": "code",
   "execution_count": null,
   "metadata": {},
   "outputs": [],
   "source": [
    "plt.plot(dados.ra, dados.dec, \"ko\") # < marker círculo\n",
    "plt.tight_layout()"
   ]
  },
  {
   "cell_type": "code",
   "execution_count": null,
   "metadata": {},
   "outputs": [],
   "source": [
    "cluster1 = dados.query(\"ra > 300\")\n",
    "cluster1.describe()"
   ]
  },
  {
   "cell_type": "code",
   "execution_count": null,
   "metadata": {},
   "outputs": [],
   "source": [
    "plt.plot(cluster1.ra, cluster1.dec, \"ko\") # cluster1\n",
    "plt.tight_layout()"
   ]
  },
  {
   "cell_type": "code",
   "execution_count": null,
   "metadata": {},
   "outputs": [],
   "source": [
    "plt.plot(cluster1.ra, cluster1.dec, \"rs\") # quadrado\n",
    "plt.tight_layout()"
   ]
  },
  {
   "cell_type": "code",
   "execution_count": null,
   "metadata": {},
   "outputs": [],
   "source": [
    "plt.plot(cluster1.ra, cluster1.dec, \"g^\") # triângulo\n",
    "plt.tight_layout()"
   ]
  },
  {
   "cell_type": "code",
   "execution_count": null,
   "metadata": {},
   "outputs": [],
   "source": [
    "plt.plot(cluster1.ra, cluster1.dec, \"m*\") # estrela\n",
    "plt.tight_layout()"
   ]
  },
  {
   "cell_type": "code",
   "execution_count": null,
   "metadata": {},
   "outputs": [],
   "source": [
    "plt.plot(cluster1.ra, cluster1.dec, \"b.\") # ponto\n",
    "plt.tight_layout()"
   ]
  },
  {
   "cell_type": "code",
   "execution_count": null,
   "metadata": {},
   "outputs": [],
   "source": [
    "plt.plot(cluster1.ra, cluster1.dec, \"k,\") # pixel\n",
    "plt.tight_layout()"
   ]
  },
  {
   "cell_type": "code",
   "execution_count": null,
   "metadata": {},
   "outputs": [],
   "source": [
    "plt.plot(cluster1.ra, cluster1.dec, \"ko\") # volta p/ círculo\n",
    "plt.tight_layout()"
   ]
  },
  {
   "cell_type": "code",
   "execution_count": null,
   "metadata": {},
   "outputs": [],
   "source": [
    "plt.plot(cluster1.ra, cluster1.dec, \"ko\", alpha=0.5) # alpha\n",
    "plt.tight_layout()"
   ]
  },
  {
   "cell_type": "code",
   "execution_count": null,
   "metadata": {},
   "outputs": [],
   "source": [
    "plt.plot(cluster1.ra, cluster1.dec, \"ko\", alpha=0.5) \n",
    "plt.xlabel(\"R.A. (deg)\", fontsize=14)  # labels\n",
    "plt.ylabel(\"Dec. (deg)\", fontsize=14)\n",
    "plt.xticks(fontsize=12)\n",
    "plt.yticks(fontsize=12)\n",
    "plt.tight_layout()"
   ]
  },
  {
   "cell_type": "code",
   "execution_count": null,
   "metadata": {},
   "outputs": [],
   "source": [
    "plt.plot(cluster1.ra, cluster1.dec, \"ko\", alpha=0.5) \n",
    "plt.xlabel(\"R.A. (deg)\", fontsize=14)  # labels\n",
    "plt.ylabel(\"Dec. (deg)\", fontsize=14)\n",
    "plt.xticks(fontsize=12)\n",
    "plt.yticks(fontsize=12)\n",
    "plt.tight_layout()"
   ]
  },
  {
   "cell_type": "code",
   "execution_count": null,
   "metadata": {},
   "outputs": [],
   "source": [
    "plt.title(\"Spatial distribution\", fontsize=14) # título\n",
    "plt.plot(cluster1.ra, cluster1.dec, \"ko\", alpha=0.5)\n",
    "plt.xlabel(\"R.A. (deg)\", fontsize=14) \n",
    "plt.ylabel(\"Dec. (deg)\", fontsize=14)\n",
    "plt.xticks(fontsize=12)\n",
    "plt.yticks(fontsize=12)\n",
    "plt.tight_layout()"
   ]
  },
  {
   "cell_type": "markdown",
   "metadata": {},
   "source": [
    "Scatter plot"
   ]
  },
  {
   "cell_type": "code",
   "execution_count": null,
   "metadata": {},
   "outputs": [],
   "source": [
    "plt.title(\"Spatial distribution\", fontsize=14) \n",
    "plt.scatter(cluster1.ra, cluster1.dec)  # scatter <-----\n",
    "plt.xlabel(\"R.A. (deg)\", fontsize=14) \n",
    "plt.ylabel(\"Dec. (deg)\", fontsize=14)\n",
    "plt.xticks(fontsize=12)\n",
    "plt.yticks(fontsize=12)\n",
    "plt.tight_layout()"
   ]
  },
  {
   "cell_type": "code",
   "execution_count": null,
   "metadata": {},
   "outputs": [],
   "source": [
    "plt.title(\"Spatial distribution\", fontsize=14) \n",
    "plt.scatter(cluster1.ra, cluster1.dec, c=cluster1.z_gal)  # photoz as color  <-----\n",
    "plt.xlabel(\"R.A. (deg)\", fontsize=14) \n",
    "plt.ylabel(\"Dec. (deg)\", fontsize=14)\n",
    "plt.xticks(fontsize=12)\n",
    "plt.yticks(fontsize=12)\n",
    "plt.tight_layout()"
   ]
  },
  {
   "cell_type": "code",
   "execution_count": null,
   "metadata": {},
   "outputs": [],
   "source": [
    "plt.title(\"Spatial distribution\", fontsize=14) \n",
    "plt.scatter(cluster1.ra, cluster1.dec, c=cluster1.z_gal) \n",
    "plt.xlabel(\"R.A. (deg)\", fontsize=14) \n",
    "plt.ylabel(\"Dec. (deg)\", fontsize=14)\n",
    "plt.xticks(fontsize=12)\n",
    "plt.yticks(fontsize=12)\n",
    "plt.colorbar() # colorbar <--------\n",
    "plt.tight_layout()"
   ]
  },
  {
   "cell_type": "code",
   "execution_count": null,
   "metadata": {},
   "outputs": [],
   "source": [
    "plt.title(\"Spatial distribution\", fontsize=14) \n",
    "plt.scatter(cluster1.ra, cluster1.dec, c=cluster1.z_gal) \n",
    "plt.xlabel(\"R.A. (deg)\", fontsize=14) \n",
    "plt.ylabel(\"Dec. (deg)\", fontsize=14)\n",
    "plt.xticks(fontsize=12)\n",
    "plt.yticks(fontsize=12)\n",
    "plt.colorbar(label=\"photo-z\") # label <--------\n",
    "plt.tight_layout()"
   ]
  },
  {
   "cell_type": "code",
   "execution_count": null,
   "metadata": {},
   "outputs": [],
   "source": [
    "plt.title(\"Spatial distribution\", fontsize=14) \n",
    "plt.scatter(cluster1.ra, cluster1.dec, \n",
    "            c=cluster1.z_gal, cmap=\"rainbow\") \n",
    "plt.xlabel(\"R.A. (deg)\", fontsize=14) \n",
    "plt.ylabel(\"Dec. (deg)\", fontsize=14)\n",
    "plt.xticks(fontsize=12)\n",
    "plt.yticks(fontsize=12)\n",
    "plt.colorbar(label=\"photo-z\") \n",
    "plt.tight_layout()"
   ]
  },
  {
   "cell_type": "markdown",
   "metadata": {},
   "source": [
    "## 1.3 Density plots"
   ]
  },
  {
   "cell_type": "code",
   "execution_count": null,
   "metadata": {},
   "outputs": [],
   "source": [
    "from scipy.stats import gaussian_kde"
   ]
  },
  {
   "cell_type": "code",
   "execution_count": null,
   "metadata": {},
   "outputs": [],
   "source": [
    "plt.title(\"Spatial distribution\", fontsize=14) \n",
    "xy = np.vstack([cluster1.ra, cluster1.dec])  # <------\n",
    "density = gaussian_kde(xy)(xy)# <------\n",
    "plt.scatter(cluster1.ra, cluster1.dec, c=density)# <------\n",
    "plt.xlabel(\"R.A. (deg)\", fontsize=14)\n",
    "plt.ylabel(\"Dec. (deg)\", fontsize=14)\n",
    "plt.colorbar(label=\"density of points\")\n",
    "plt.xticks(fontsize=12)\n",
    "plt.yticks(fontsize=12)\n",
    "plt.tight_layout()"
   ]
  },
  {
   "cell_type": "code",
   "execution_count": null,
   "metadata": {},
   "outputs": [],
   "source": [
    "plt.title(\"Spatial distribution\", fontsize=14) \n",
    "xy = np.vstack([cluster1.ra, cluster1.dec])\n",
    "density = gaussian_kde(xy)(xy)\n",
    "plt.scatter(cluster1.ra, cluster1.dec, c=density, cmap=\"inferno\")\n",
    "plt.xlabel(\"R.A. (deg)\", fontsize=14)\n",
    "plt.ylabel(\"Dec. (deg)\", fontsize=14)\n",
    "plt.colorbar(label=\"density of points\")\n",
    "plt.xticks(fontsize=12)\n",
    "plt.yticks(fontsize=12)\n",
    "plt.tight_layout()"
   ]
  },
  {
   "cell_type": "code",
   "execution_count": null,
   "metadata": {},
   "outputs": [],
   "source": [
    "%%time\n",
    "plt.title(\"Spatial distribution\", fontsize=14) \n",
    "xy = np.vstack([cluster1.ra, cluster1.dec])\n",
    "density = gaussian_kde(xy)(xy)\n",
    "plt.scatter(cluster1.ra, cluster1.dec, c=density, cmap=\"inferno_r\")\n",
    "plt.xlabel(\"R.A. (deg)\", fontsize=14)\n",
    "plt.ylabel(\"Dec. (deg)\", fontsize=14)\n",
    "plt.colorbar(label=\"density of points\")\n",
    "plt.xticks(fontsize=12)\n",
    "plt.yticks(fontsize=12)\n",
    "plt.tight_layout()"
   ]
  },
  {
   "cell_type": "markdown",
   "metadata": {},
   "source": [
    "#### Mapas de densidade"
   ]
  },
  {
   "cell_type": "markdown",
   "metadata": {},
   "source": [
    "Histogram 2D"
   ]
  },
  {
   "cell_type": "code",
   "execution_count": null,
   "metadata": {},
   "outputs": [],
   "source": [
    "plt.title(\"Spatial distribution\", fontsize=14) \n",
    "plt.hist2d(cluster1.ra, cluster1.dec) # <---- \n",
    "plt.xlabel(\"R.A. (deg)\", fontsize=14) \n",
    "plt.ylabel(\"Dec. (deg)\", fontsize=14)\n",
    "plt.colorbar(label=\"density of points\")\n",
    "plt.xticks(fontsize=12)\n",
    "plt.yticks(fontsize=12)\n",
    "plt.tight_layout()"
   ]
  },
  {
   "cell_type": "code",
   "execution_count": null,
   "metadata": {},
   "outputs": [],
   "source": [
    "plt.title(\"Spatial distribution\", fontsize=14) \n",
    "plt.hist2d(cluster1.ra, cluster1.dec, bins=50) # <--- bins \n",
    "plt.xlabel(\"R.A. (deg)\", fontsize=14)\n",
    "plt.ylabel(\"Dec. (deg)\", fontsize=14)\n",
    "plt.colorbar(label=\"density of points\")\n",
    "plt.xticks(fontsize=12)\n",
    "plt.yticks(fontsize=12)\n",
    "plt.tight_layout()"
   ]
  },
  {
   "cell_type": "code",
   "execution_count": null,
   "metadata": {},
   "outputs": [],
   "source": [
    "plt.title(\"Spatial distribution\", fontsize=14) \n",
    "plt.hist2d(cluster1.ra, cluster1.dec, bins=50) # <--- bins \n",
    "plt.xlabel(\"R.A. (deg)\", fontsize=14)\n",
    "plt.ylabel(\"Dec. (deg)\", fontsize=14)\n",
    "plt.colorbar(label=\"density of points\")\n",
    "plt.xticks(fontsize=12)\n",
    "plt.yticks(fontsize=12)\n",
    "plt.tight_layout()"
   ]
  },
  {
   "cell_type": "markdown",
   "metadata": {},
   "source": [
    "Hexbin"
   ]
  },
  {
   "cell_type": "code",
   "execution_count": null,
   "metadata": {},
   "outputs": [],
   "source": [
    "plt.title(\"Spatial distribution\", fontsize=14) \n",
    "plt.hexbin(cluster1.ra, cluster1.dec) # hexbin \n",
    "plt.xlabel(\"R.A. (deg)\", fontsize=14)\n",
    "plt.ylabel(\"Dec. (deg)\", fontsize=14)\n",
    "plt.colorbar(label=\"density of points\")\n",
    "plt.xticks(fontsize=12)\n",
    "plt.yticks(fontsize=12)\n",
    "plt.tight_layout()"
   ]
  },
  {
   "cell_type": "code",
   "execution_count": null,
   "metadata": {},
   "outputs": [],
   "source": [
    "plt.title(\"Spatial distribution\", fontsize=14) \n",
    "plt.hexbin(cluster1.ra, cluster1.dec, gridsize=20) # default é 100 \n",
    "plt.xlabel(\"R.A. (deg)\", fontsize=14)\n",
    "plt.ylabel(\"Dec. (deg)\", fontsize=14)\n",
    "plt.colorbar(label=\"density of points\")\n",
    "plt.xticks(fontsize=12)\n",
    "plt.yticks(fontsize=12)\n",
    "plt.tight_layout()"
   ]
  },
  {
   "cell_type": "code",
   "execution_count": null,
   "metadata": {},
   "outputs": [],
   "source": [
    "%%time\n",
    "plt.title(\"Spatial distribution\", fontsize=14) \n",
    "plt.hexbin(cluster1.ra, cluster1.dec, \n",
    "           gridsize=20, mincnt=1) # só onde tem dado  \n",
    "plt.xlabel(\"R.A. (deg)\", fontsize=14)\n",
    "plt.ylabel(\"Dec. (deg)\", fontsize=14)\n",
    "plt.colorbar(label=\"density of points\")\n",
    "plt.xticks(fontsize=12)\n",
    "plt.yticks(fontsize=12)\n",
    "plt.tight_layout()"
   ]
  },
  {
   "cell_type": "markdown",
   "metadata": {},
   "source": [
    "# 2. Gráficos com a biblioteca Seaborn"
   ]
  },
  {
   "cell_type": "code",
   "execution_count": null,
   "metadata": {},
   "outputs": [],
   "source": [
    "sns.set(color_codes=True, font_scale=1.5) # seaborn plot config"
   ]
  },
  {
   "cell_type": "markdown",
   "metadata": {},
   "source": [
    "## 2.1 Histogramas (1D)"
   ]
  },
  {
   "cell_type": "code",
   "execution_count": null,
   "metadata": {},
   "outputs": [],
   "source": [
    "sns.displot(dados.mag_i)\n",
    "plt.tight_layout()"
   ]
  },
  {
   "cell_type": "code",
   "execution_count": null,
   "metadata": {},
   "outputs": [],
   "source": [
    "sns.displot(dados.mag_i, kde=True) # kde \n",
    "plt.tight_layout()"
   ]
  },
  {
   "cell_type": "code",
   "execution_count": null,
   "metadata": {},
   "outputs": [],
   "source": [
    "sns.kdeplot(dados.mag_i) # só o kde\n",
    "plt.tight_layout()"
   ]
  },
  {
   "cell_type": "code",
   "execution_count": null,
   "metadata": {},
   "outputs": [],
   "source": [
    "sns.kdeplot(dados.mag_i, shade=True) # região preenchida\n",
    "plt.tight_layout()"
   ]
  },
  {
   "cell_type": "code",
   "execution_count": null,
   "metadata": {},
   "outputs": [],
   "source": [
    "bands = [\"g\", \"r\", \"i\"]"
   ]
  },
  {
   "cell_type": "code",
   "execution_count": null,
   "metadata": {},
   "outputs": [],
   "source": [
    "#plt.figure()\n",
    "for band in bands:\n",
    "    sns.kdeplot(dados[f\"mag_{band}\"], shade=True)"
   ]
  },
  {
   "cell_type": "code",
   "execution_count": null,
   "metadata": {},
   "outputs": [],
   "source": [
    "plt.figure()\n",
    "for band in bands:\n",
    "    sns.kdeplot(dados[f\"mag_{band}\"], \n",
    "                shade=True, label=band) # label <----\n",
    "plt.xlabel(\"magnitude\") # label eixo x <----\n",
    "plt.legend()  # legend  <----\n",
    "plt.tight_layout()"
   ]
  },
  {
   "cell_type": "markdown",
   "metadata": {},
   "source": [
    "## 2.2 Scatter plot"
   ]
  },
  {
   "cell_type": "code",
   "execution_count": null,
   "metadata": {},
   "outputs": [],
   "source": [
    "sns.scatterplot(data=cluster1, x=\"ra\", y=\"dec\")\n",
    "plt.tight_layout()"
   ]
  },
  {
   "cell_type": "code",
   "execution_count": null,
   "metadata": {},
   "outputs": [],
   "source": [
    "sns.scatterplot(data=cluster1, x=\"ra\", y=\"dec\", hue=\"z_gal\") # <--- hue\n",
    "plt.tight_layout()"
   ]
  },
  {
   "cell_type": "code",
   "execution_count": null,
   "metadata": {},
   "outputs": [],
   "source": [
    "cluster1.ra.min()-0.1, cluster1.ra.max()"
   ]
  },
  {
   "cell_type": "code",
   "execution_count": null,
   "metadata": {},
   "outputs": [],
   "source": [
    "sns.scatterplot(data=cluster1, x=\"ra\", y=\"dec\", hue=\"z_gal\") \n",
    "plt.xlim(355.9, 356.35) # <---\n",
    "plt.tight_layout()"
   ]
  },
  {
   "cell_type": "code",
   "execution_count": null,
   "metadata": {},
   "outputs": [],
   "source": [
    "plt.figure(figsize=[8,5]) #  <---\n",
    "sns.scatterplot(data=cluster1, x=\"ra\", y=\"dec\", hue=\"z_gal\") \n",
    "plt.xlim(355.9, 356.35) \n",
    "plt.tight_layout()"
   ]
  },
  {
   "cell_type": "code",
   "execution_count": null,
   "metadata": {},
   "outputs": [],
   "source": [
    "plt.figure(figsize=[8,5]) \n",
    "sns.scatterplot(data=cluster1, x=\"ra\", y=\"dec\", \n",
    "                hue=\"z_gal\", size=\"z_gal\") # <----- size\n",
    "plt.xlim(355.9, 356.35) \n",
    "plt.tight_layout()"
   ]
  },
  {
   "cell_type": "markdown",
   "metadata": {},
   "source": [
    "## 2.3 Density plots"
   ]
  },
  {
   "cell_type": "code",
   "execution_count": null,
   "metadata": {},
   "outputs": [],
   "source": [
    "plt.figure()\n",
    "sns.kdeplot(data=dados, x=\"ra\", y=\"dec\")\n",
    "plt.tight_layout()"
   ]
  },
  {
   "cell_type": "code",
   "execution_count": null,
   "metadata": {},
   "outputs": [],
   "source": [
    "plt.figure()\n",
    "sns.kdeplot(data=cluster1, x=\"ra\", y=\"dec\") # cluster 1 <---\n",
    "plt.tight_layout()"
   ]
  },
  {
   "cell_type": "code",
   "execution_count": null,
   "metadata": {},
   "outputs": [],
   "source": [
    "plt.figure()\n",
    "sns.kdeplot(data=cluster1, x=\"ra\", y=\"dec\", shade=True) # shade <---\n",
    "plt.tight_layout()"
   ]
  },
  {
   "cell_type": "markdown",
   "metadata": {},
   "source": [
    "## 2.4 Joint Plots"
   ]
  },
  {
   "cell_type": "code",
   "execution_count": null,
   "metadata": {},
   "outputs": [],
   "source": [
    "sns.jointplot(data=cluster1, x=\"ra\", y=\"dec\")\n",
    "plt.tight_layout()"
   ]
  },
  {
   "cell_type": "code",
   "execution_count": null,
   "metadata": {},
   "outputs": [],
   "source": [
    "sns.jointplot(data=cluster1, x=\"ra\", y=\"dec\", kind=\"kde\") # kde <----- \n",
    "plt.tight_layout()"
   ]
  },
  {
   "cell_type": "code",
   "execution_count": null,
   "metadata": {},
   "outputs": [],
   "source": [
    "sns.jointplot(data=cluster1, x=\"ra\", y=\"dec\", kind=\"kde\", shade=True) # shade <----\n",
    "plt.tight_layout()"
   ]
  },
  {
   "cell_type": "markdown",
   "metadata": {},
   "source": [
    "# 3. CMD"
   ]
  },
  {
   "cell_type": "markdown",
   "metadata": {},
   "source": [
    "Cálculo da cor"
   ]
  },
  {
   "cell_type": "code",
   "execution_count": null,
   "metadata": {},
   "outputs": [],
   "source": [
    "dados[\"gmi\"] = dados.mag_g - dados.mag_i"
   ]
  },
  {
   "cell_type": "markdown",
   "metadata": {},
   "source": [
    "Seleção de objetos em uma faixa estreita de redshift. "
   ]
  },
  {
   "cell_type": "code",
   "execution_count": null,
   "metadata": {},
   "outputs": [],
   "source": [
    "zmin = 0.5\n",
    "zmax = 0.6"
   ]
  },
  {
   "cell_type": "code",
   "execution_count": null,
   "metadata": {},
   "outputs": [],
   "source": [
    "same_distance = dados.query(f'z_gal > {zmin} & z_gal < {zmax}')"
   ]
  },
  {
   "cell_type": "code",
   "execution_count": null,
   "metadata": {},
   "outputs": [],
   "source": [
    "same_distance.size"
   ]
  },
  {
   "cell_type": "markdown",
   "metadata": {},
   "source": [
    "CMD"
   ]
  },
  {
   "cell_type": "code",
   "execution_count": null,
   "metadata": {},
   "outputs": [],
   "source": [
    "sns.kdeplot(data=same_distance, x='mag_i', y='gmi', \n",
    "            shade=True, color=\"green\")\n",
    "plt.xlabel('mag $i$')\n",
    "plt.ylabel('color $g-i$')\n",
    "plt.tight_layout()"
   ]
  },
  {
   "cell_type": "code",
   "execution_count": null,
   "metadata": {},
   "outputs": [],
   "source": [
    "sns.kdeplot(data=same_distance, x='mag_i', y='gmi', \n",
    "            shade=True, color=\"green\")\n",
    "plt.xlim(19.5, 23.5)\n",
    "plt.ylim(0.25,3.5)\n",
    "plt.xlabel('mag $i$')\n",
    "plt.ylabel('color $g-i$')\n",
    "plt.tight_layout()"
   ]
  },
  {
   "cell_type": "markdown",
   "metadata": {},
   "source": [
    "Red and blue"
   ]
  },
  {
   "cell_type": "code",
   "execution_count": null,
   "metadata": {},
   "outputs": [],
   "source": [
    "red = same_distance.query('gmi > 2 & gmi < 5')\n",
    "blue = same_distance.query('gmi > -1 & gmi < 2')"
   ]
  },
  {
   "cell_type": "code",
   "execution_count": null,
   "metadata": {},
   "outputs": [],
   "source": [
    "sns.kdeplot(data=blue, x='mag_i', y='gmi', shade=True, color=\"blue\")\n",
    "sns.kdeplot(data=red, x='mag_i', y='gmi', shade=True, color=\"red\")\n",
    "plt.xlim(19.5, 23.5)\n",
    "plt.ylim(0.25,3.5)\n",
    "plt.xlabel('mag i')\n",
    "plt.ylabel('color g-i')\n",
    "plt.tight_layout()"
   ]
  },
  {
   "cell_type": "code",
   "execution_count": null,
   "metadata": {},
   "outputs": [],
   "source": [
    "sns.kdeplot(data=blue, x='mag_i', y='gmi', shade=True, color=\"blue\")\n",
    "sns.kdeplot(data=red, x='mag_i', y='gmi', shade=True, color=\"red\")\n",
    "plt.xlim(23.5, 19.5)  # <-----\n",
    "plt.ylim(0.25,3.5)\n",
    "plt.xlabel('mag $i$')\n",
    "plt.ylabel('color $g-i$')\n",
    "plt.tight_layout()"
   ]
  },
  {
   "cell_type": "code",
   "execution_count": null,
   "metadata": {},
   "outputs": [],
   "source": [
    "plt.title(\"Observed CMD - Cluster Galaxies from DES Y1\", fontsize=14)\n",
    "sns.kdeplot(data=blue, x='mag_i', y='gmi', shade=True, color=\"blue\")\n",
    "sns.kdeplot(data=red, x='mag_i', y='gmi', shade=True, color=\"red\")\n",
    "plt.xlim(23.5, 19.5)  # <-----\n",
    "plt.ylim(0.25,3.5)\n",
    "plt.xlabel('mag $i$')\n",
    "plt.ylabel('color $g-i$')\n",
    "plt.text(23.5, 0.4, \" <-- faint\", fontsize=16)\n",
    "plt.text(20.5, 0.4, \"bright --> \", fontsize=16)\n",
    "plt.tight_layout()"
   ]
  },
  {
   "cell_type": "code",
   "execution_count": null,
   "metadata": {},
   "outputs": [],
   "source": [
    "plt.title(\"Observed CMD - Cluster Galaxies from DES Y1\", fontsize=14)\n",
    "sns.kdeplot(data=blue, x='mag_i', y='gmi', shade=True, color=\"blue\")\n",
    "sns.kdeplot(data=red, x='mag_i', y='gmi', shade=True, color=\"red\")\n",
    "plt.xlim(23.5, 19.5)  # <-----\n",
    "plt.ylim(0.25,3.5)\n",
    "plt.xlabel('mag $i$')\n",
    "plt.ylabel('color $g-i$')\n",
    "plt.text(23.5, 0.4, \" <-- faint\", fontsize=16)\n",
    "plt.text(20.5, 0.4, \"bright --> \", fontsize=16)\n",
    "plt.tight_layout()\n",
    "plt.savefig(\"cmd_stars_kdeplot.png\")  # <----- "
   ]
  },
  {
   "cell_type": "markdown",
   "metadata": {},
   "source": [
    "# 4. Export  \n",
    "\n",
    "Para exportar seu notebook com resultados para uma versão estática e leve que abre em qualquer navegador, basta ir no menu em:\n",
    "\n",
    "`File > Export Notebook As > Export to HTML`"
   ]
  },
  {
   "cell_type": "markdown",
   "metadata": {},
   "source": [
    "Antes de salvar o arquivo **.ipynb**, não se esqueça de limpar todos os outputs:\n",
    "\n",
    "`Edit > Clear All Outputs`"
   ]
  },
  {
   "cell_type": "code",
   "execution_count": null,
   "metadata": {},
   "outputs": [],
   "source": []
  }
 ],
 "metadata": {
  "kernelspec": {
   "display_name": "minicurso-ed2",
   "language": "python",
   "name": "minicurso-ed2"
  },
  "language_info": {
   "codemirror_mode": {
    "name": "ipython",
    "version": 3
   },
   "file_extension": ".py",
   "mimetype": "text/x-python",
   "name": "python",
   "nbconvert_exporter": "python",
   "pygments_lexer": "ipython3",
   "version": "3.8.6"
  }
 },
 "nbformat": 4,
 "nbformat_minor": 4
}
